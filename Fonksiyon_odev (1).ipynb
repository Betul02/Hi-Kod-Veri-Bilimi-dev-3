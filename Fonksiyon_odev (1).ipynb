{
 "cells": [
  {
   "cell_type": "markdown",
   "metadata": {},
   "source": [
    "#### Ödev 1\n",
    "Kullanıcıdan pi değeri ve yarıçap bilgisi alarak dairenin alanını hesaplayan bir fonksiyon oluşturulur."
   ]
  },
  {
   "cell_type": "code",
   "execution_count": 12,
   "metadata": {
    "vscode": {
     "languageId": "plaintext"
    }
   },
   "outputs": [
    {
     "name": "stdout",
     "output_type": "stream",
     "text": [
      "pi değerini giriniz:3.14\n",
      "yarı çap giriniz:5\n",
      "dairenin alanı: 78.5\n"
     ]
    }
   ],
   "source": [
    "pi_değeri =float(input(\"pi değerini giriniz:\"))\n",
    "yarı_çap = float(input(\"yarı çap giriniz:\"))\n",
    "\n",
    "def alan_hesabı(pi_değeri , yarı_çap):\n",
    "    \n",
    "    alan = pi_değeri*(yarı_çap**2)\n",
    "    print(\"dairenin alanı:\" , alan)\n",
    "\n",
    "alan_hesabı(pi_değeri , yarı_çap) "
   ]
  },
  {
   "cell_type": "markdown",
   "metadata": {},
   "source": [
    "#### Ödev 2\n",
    "\n",
    "Faktöriyel adında fonksiyon oluşturulur. Döngü kullanarak parametre olarak girilen sayının faktöriyeli hesaplanır. Format metodunu kullanılarak ekrana yazdırılır."
   ]
  },
  {
   "cell_type": "code",
   "execution_count": 20,
   "metadata": {
    "vscode": {
     "languageId": "plaintext"
    }
   },
   "outputs": [
    {
     "name": "stdout",
     "output_type": "stream",
     "text": [
      "Faktöriyelini hesaplamak istediğiniz sayıyı giriniz: 3\n",
      "3 sayısının faktöriyeli: 6\n"
     ]
    }
   ],
   "source": [
    "sayi = int(input(\"Faktöriyelini hesaplamak istediğiniz sayıyı giriniz: \"))\n",
    "\n",
    "def faktoriyel(sayi):\n",
    "    x = 1\n",
    "    for i  in range(1 , sayi+1):\n",
    "        x *= i\n",
    "    print(\"{} sayısının faktöriyeli: {}\".format(sayi , x))\n",
    "    \n",
    "faktoriyel(sayi)"
   ]
  },
  {
   "cell_type": "markdown",
   "metadata": {},
   "source": [
    "#### Ödev 3\n",
    "Kişinin fonksiyona doğum yılını vererek kaç yaşında olduğunu hesaplayan bir fonksiyon oluşturun. "
   ]
  },
  {
   "cell_type": "code",
   "execution_count": 23,
   "metadata": {
    "vscode": {
     "languageId": "plaintext"
    }
   },
   "outputs": [
    {
     "name": "stdout",
     "output_type": "stream",
     "text": [
      "doğum yılınızı giriniz:2002\n",
      "yaşınız: 22\n"
     ]
    }
   ],
   "source": [
    "doğum_yılı = int(input(\"doğum yılınızı giriniz:\"))\n",
    "\n",
    "def yaş(doğum_yılı):\n",
    "    hesap = 2024 - doğum_yılı\n",
    "    print(\"yaşınız:\" , hesap)\n",
    "yaş(doğum_yılı)\n"
   ]
  },
  {
   "cell_type": "markdown",
   "metadata": {},
   "source": [
    "#### Ödev 4\n",
    "\n",
    "Doğum yılı ve isim bilgisi verilen fonksiyon kişinin emekli olup olmadığını söylesin.(Kişi 65 yaşında ise emekli olur.) Burada yaş hesabını yukarıdaki örnekteki fonksiyonu kullanarak yapsın.(Yani fonksiyon içinde fonksiyon kullanmanızı istiyorum :)) Kişi 65 yaşında ya da daha fazlaysa \"Emekli oldunuz\" yanıtını, 65 yaşından küçükse emekliliğine kaç yıl kaldığını da hesaplayarak \"(isim) emekliliğine (yıl) kaldı.\" yanıtını versin."
   ]
  },
  {
   "cell_type": "code",
   "execution_count": 26,
   "metadata": {
    "vscode": {
     "languageId": "plaintext"
    }
   },
   "outputs": [
    {
     "name": "stdout",
     "output_type": "stream",
     "text": [
      "doğum yılınızı giriniz:1700\n",
      "adınızı giriniz:e\n",
      "Emekli oldunuz\n"
     ]
    }
   ],
   "source": [
    "doğum_yılı = int(input(\"doğum yılınızı giriniz:\"))\n",
    "isim = input(\"adınızı giriniz:\")\n",
    "\n",
    "def yaş(doğum_yılı):\n",
    "    hesap = 2024 - doğum_yılı\n",
    "    if hesap < 65:\n",
    "        yıl = 65 - hesap\n",
    "        print(f\"{isim} emekliliğine {yıl} yıl kaldı\")\n",
    "    else:\n",
    "        print(\"Emekli oldunuz\")\n",
    "yaş(doğum_yılı)"
   ]
  },
  {
   "cell_type": "code",
   "execution_count": null,
   "metadata": {},
   "outputs": [],
   "source": []
  }
 ],
 "metadata": {
  "kernelspec": {
   "display_name": "Python 3 (ipykernel)",
   "language": "python",
   "name": "python3"
  },
  "language_info": {
   "codemirror_mode": {
    "name": "ipython",
    "version": 3
   },
   "file_extension": ".py",
   "mimetype": "text/x-python",
   "name": "python",
   "nbconvert_exporter": "python",
   "pygments_lexer": "ipython3",
   "version": "3.11.3"
  }
 },
 "nbformat": 4,
 "nbformat_minor": 2
}
